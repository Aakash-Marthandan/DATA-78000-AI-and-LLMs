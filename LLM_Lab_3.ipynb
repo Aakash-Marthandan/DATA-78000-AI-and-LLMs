{
  "nbformat": 4,
  "nbformat_minor": 0,
  "metadata": {
    "colab": {
      "provenance": []
    },
    "kernelspec": {
      "name": "python3",
      "display_name": "Python 3"
    },
    "language_info": {
      "name": "python"
    }
  },
  "cells": [
    {
      "cell_type": "code",
      "execution_count": null,
      "metadata": {
        "colab": {
          "base_uri": "https://localhost:8080/"
        },
        "id": "LF3a3FUz1csz",
        "outputId": "c911f047-82f9-4ad2-ff9f-cc807654ba5c"
      },
      "outputs": [
        {
          "output_type": "stream",
          "name": "stderr",
          "text": [
            "[nltk_data] Downloading package punkt to /root/nltk_data...\n",
            "[nltk_data]   Package punkt is already up-to-date!\n",
            "[nltk_data] Downloading package wordnet to /root/nltk_data...\n",
            "[nltk_data]   Package wordnet is already up-to-date!\n"
          ]
        }
      ],
      "source": [
        "import nltk\n",
        "\n",
        "import timeit\n",
        "nltk.download('punkt')\n",
        "nltk.download('wordnet')\n",
        "\n",
        "from datasets import load_dataset"
      ]
    },
    {
      "cell_type": "code",
      "source": [
        "# Decide what year you want between 1810 and 1963\n",
        "\n",
        "my_year = \"1960\"\n",
        "\n",
        "# Decide how many articles you want to work with (keep this small - it's slow)\n",
        "num_articles = 10\n",
        "\n",
        "#  Download data for your choice of year (1810 to 1963)\n",
        "dataset = load_dataset(\"dell-research-harvard/AmericanStories\",\n",
        "    \"subset_years\",\n",
        "    year_list=[my_year]\n",
        ")\n",
        "\n",
        "# Get the first n articles from that year\n",
        "# instantiate the counter\n",
        "i=0\n",
        "# instantiate the string\n",
        "my_articles = ''\n",
        "# loop through each article for that year\n",
        "for article in dataset[my_year]:\n",
        "    #the article is a dictionary,\n",
        "    #we're getting the text of the article by accessing the key, \"article\"\n",
        "    my_articles += article.get('article')\n",
        "    #add one to our counter\n",
        "    i+=1\n",
        "    #if the counter is greater than num_articles-1, stop looping\n",
        "    if i>(num_articles-1): break\n",
        "\n",
        "#validate that it is what we expect by checking on first 100 characters\n",
        "print(my_articles[:1000])"
      ],
      "metadata": {
        "colab": {
          "base_uri": "https://localhost:8080/"
        },
        "id": "JbvIQKtIDQnF",
        "outputId": "5103591a-8d12-45f2-bb77-c0408d601b5b"
      },
      "execution_count": null,
      "outputs": [
        {
          "output_type": "stream",
          "name": "stdout",
          "text": [
            "SAN FRANCISCO. Nov. 10\n",
            "(AP).-Alvin Dark made his\n",
            "first decisions yesterday as\n",
            "manager Of the San Francisco\n",
            "Giants. He hired two former\n",
            "teammates as coaches.\n",
            "\n",
            "\n",
            "Dark was signed last week,\n",
            "Yesterday he selected Larry\n",
            "Jansen and Whitley Lockman\n",
            "and retained Yves Westrum and\n",
            "Salty Parker for his coaching\n",
            "staff. Bill Posedel was re-\n",
            "leased to make way for Jansen\n",
            "as boss Of the bullpen.\n",
            "\n",
            "\n",
            "Dark. Jansen and Lockman-\n",
            "stars when they played for the\n",
            "Giants have a lot in common\n",
            "They have regulations al\n",
            "gentlemen, quiet craftsmen whc\n",
            "let their feats on the field speal\n",
            "for them.\n",
            "\n",
            "\n",
            "Dark hit 1922 in his rookie\n",
            "season with the Boston Brave.\n",
            "and was named rookie of thu\n",
            "year l948 by the major league\n",
            "baseball writer's.\n",
            "\n",
            "\n",
            "AS lean. smiling youngstel\n",
            "of 18, Lockman stepped intC\n",
            "Mel Otis No. 3 batting spot IL\n",
            "midsummer Of 1945 anchead last Saturday when Mon\n",
            "treal lost in q cup playoff with\n",
            "out throwing a pass In the last\n",
            "half. Moss said it was because\n",
            "of Etcheverry's sore arm. The\n",
            "player said his arm was SOUND\n"
          ]
        }
      ]
    },
    {
      "cell_type": "code",
      "source": [
        "#remove new line and other formatting characters\n",
        "for char in [\"\\n\", \"\\r\", \"\\d\", \"\\t\"]:\n",
        "    my_articles = my_articles.replace(char, \" \")\n",
        "my_articles[:1000]"
      ],
      "metadata": {
        "colab": {
          "base_uri": "https://localhost:8080/",
          "height": 125
        },
        "id": "kgO3ifkRD2FN",
        "outputId": "932e2bb1-0882-4246-fe4c-380fe2b776bc"
      },
      "execution_count": null,
      "outputs": [
        {
          "output_type": "execute_result",
          "data": {
            "text/plain": [
              "\"SAN FRANCISCO. Nov. 10 (AP).-Alvin Dark made his first decisions yesterday as manager Of the San Francisco Giants. He hired two former teammates as coaches.   Dark was signed last week, Yesterday he selected Larry Jansen and Whitley Lockman and retained Yves Westrum and Salty Parker for his coaching staff. Bill Posedel was re- leased to make way for Jansen as boss Of the bullpen.   Dark. Jansen and Lockman- stars when they played for the Giants have a lot in common They have regulations al gentlemen, quiet craftsmen whc let their feats on the field speal for them.   Dark hit 1922 in his rookie season with the Boston Brave. and was named rookie of thu year l948 by the major league baseball writer's.   AS lean. smiling youngstel of 18, Lockman stepped intC Mel Otis No. 3 batting spot IL midsummer Of 1945 anchead last Saturday when Mon treal lost in q cup playoff with out throwing a pass In the last half. Moss said it was because of Etcheverry's sore arm. The player said his arm was SOUND\""
            ],
            "application/vnd.google.colaboratory.intrinsic+json": {
              "type": "string"
            }
          },
          "metadata": {},
          "execution_count": 25
        }
      ]
    },
    {
      "cell_type": "code",
      "source": [
        "%%time\n",
        "#this is a magic function to determine how long a cell takes to run.\n",
        "#It MUST be the first thing in a cell\n",
        "\n",
        "#split the whole string on spaces. This returns a list\n",
        "whitespace_tokens = my_articles.split(' ')\n",
        "\n",
        "#check the list\n",
        "whitespace_tokens[:20]"
      ],
      "metadata": {
        "colab": {
          "base_uri": "https://localhost:8080/"
        },
        "id": "WKm1LzVcIfYH",
        "outputId": "82ebd77a-532c-47f1-dd80-997ec69295e8"
      },
      "execution_count": null,
      "outputs": [
        {
          "output_type": "stream",
          "name": "stdout",
          "text": [
            "CPU times: user 179 µs, sys: 10 µs, total: 189 µs\n",
            "Wall time: 194 µs\n"
          ]
        },
        {
          "output_type": "execute_result",
          "data": {
            "text/plain": [
              "['SAN',\n",
              " 'FRANCISCO.',\n",
              " 'Nov.',\n",
              " '10',\n",
              " '(AP).-Alvin',\n",
              " 'Dark',\n",
              " 'made',\n",
              " 'his',\n",
              " 'first',\n",
              " 'decisions',\n",
              " 'yesterday',\n",
              " 'as',\n",
              " 'manager',\n",
              " 'Of',\n",
              " 'the',\n",
              " 'San',\n",
              " 'Francisco',\n",
              " 'Giants.',\n",
              " 'He',\n",
              " 'hired']"
            ]
          },
          "metadata": {},
          "execution_count": 26
        }
      ]
    },
    {
      "cell_type": "code",
      "source": [
        "#This lemmatizer is based on the Morphy project above\n",
        "from nltk.stem import WordNetLemmatizer\n",
        "\n",
        "#Uncomment these two lines - you may need to download these, maybe not.\n",
        "#nltk.download('wordnet')\n",
        "#nltk.download('omw-1.4')\n",
        "wn_lemmatizer = WordNetLemmatizer()\n"
      ],
      "metadata": {
        "id": "LCzkJPQdIq1Y"
      },
      "execution_count": null,
      "outputs": []
    },
    {
      "cell_type": "code",
      "source": [
        "%%time\n",
        "\n",
        "#first we have to split the string on spaces to get \"words\"\n",
        "whitespace_tokens = my_articles.split(' ')\n",
        "\n",
        "my_lemmas = []\n",
        "for word in whitespace_tokens:\n",
        "    w = wn_lemmatizer.lemmatize(word)\n",
        "    my_lemmas.append(w)\n",
        "my_lemmas[:20]"
      ],
      "metadata": {
        "colab": {
          "base_uri": "https://localhost:8080/"
        },
        "id": "P-Nam3wTJL-t",
        "outputId": "c0289612-8a4b-4099-b734-63aa018d4e1a"
      },
      "execution_count": null,
      "outputs": [
        {
          "output_type": "stream",
          "name": "stdout",
          "text": [
            "CPU times: user 8.48 ms, sys: 626 µs, total: 9.11 ms\n",
            "Wall time: 12.6 ms\n"
          ]
        },
        {
          "output_type": "execute_result",
          "data": {
            "text/plain": [
              "['SAN',\n",
              " 'FRANCISCO.',\n",
              " 'Nov.',\n",
              " '10',\n",
              " '(AP).-Alvin',\n",
              " 'Dark',\n",
              " 'made',\n",
              " 'his',\n",
              " 'first',\n",
              " 'decision',\n",
              " 'yesterday',\n",
              " 'a',\n",
              " 'manager',\n",
              " 'Of',\n",
              " 'the',\n",
              " 'San',\n",
              " 'Francisco',\n",
              " 'Giants.',\n",
              " 'He',\n",
              " 'hired']"
            ]
          },
          "metadata": {},
          "execution_count": 28
        }
      ]
    },
    {
      "cell_type": "code",
      "source": [],
      "metadata": {
        "id": "uN2crjm4JIgF"
      },
      "execution_count": null,
      "outputs": []
    }
  ]
}